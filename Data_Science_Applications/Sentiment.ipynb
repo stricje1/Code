{
 "cells": [
  {
   "cell_type": "code",
   "execution_count": 7,
   "metadata": {},
   "outputs": [],
   "source": [
    "import pandas as pd\n",
    "import numpy as np\n",
    "df = pd.read_csv(\"D:/Documents/PPCC/COM225/Week 4/Dream.txt\")"
   ]
  },
  {
   "cell_type": "code",
   "execution_count": 8,
   "metadata": {},
   "outputs": [
    {
     "name": "stderr",
     "output_type": "stream",
     "text": [
      "[nltk_data] Downloading package vader_lexicon to\n",
      "[nltk_data]     C:\\Users\\jeff\\AppData\\Roaming\\nltk_data...\n",
      "[nltk_data]   Package vader_lexicon is already up-to-date!\n",
      "[nltk_data] Downloading package punkt to\n",
      "[nltk_data]     C:\\Users\\jeff\\AppData\\Roaming\\nltk_data...\n",
      "[nltk_data]   Package punkt is already up-to-date!\n"
     ]
    },
    {
     "data": {
      "text/plain": [
       "True"
      ]
     },
     "execution_count": 8,
     "metadata": {},
     "output_type": "execute_result"
    }
   ],
   "source": [
    "import nltk\n",
    "nltk.download('vader_lexicon')\n",
    "nltk.download('punkt')"
   ]
  },
  {
   "cell_type": "code",
   "execution_count": 13,
   "metadata": {},
   "outputs": [],
   "source": [
    "df_string = df.to_string()"
   ]
  },
  {
   "cell_type": "code",
   "execution_count": 17,
   "metadata": {},
   "outputs": [],
   "source": [
    "message_text = '''sentiment happy join today go history greatest demonstration freedom history nation five score years ago great american whose symbolic shadow stand today signed emancipation proclamation momentous decree came great beacon light hope millions negro slaves seared flames withering injustice came joyous daybreak end long night captivity hundred years later negro still free hundred years later life negro still sadly crippled manacles segregation chains discrimination hundred years later negro lives lonely island poverty midst vast ocean material prosperity hundred years later negro still languished corners american society finds exile land weve come today dramatize shameful condition sense weve come nations capital cash check architects republic wrote magnificent words constitution declaration independence signing promissory note every american fall heir note promise men yes black men well white men guaranteed unalienable rights life liberty pursuit happiness obvious today america defaulted promissory note insofar citizens color concerned instead honoring sacred obligation america negro people bad check check come back marked insufficient funds refuse believe bank justice bankrupt refuse believe insufficient funds great vaults opportunity nation weve come cash check check give us upon demand riches freedom security justice also come hallowed spot remind america fierce urgency time engage luxury cooling take tranquilizing drug gradualism time make real promises democracy time rise dark desolate valley segregation sunlit path racial justice time lift nation quicksands racial injustice solid rock brotherhood time make justice reality gods children fatal nation overlook urgency moment sweltering summer negros legitimate discontent pass invigorating autumn freedom equality nineteen sixtythree end beginning hope negro needed blow steam content rude awakening nation returns business usual neither rest tranquility america negro granted citizenship rights whirlwinds revolt continue shake foundations nation bright day justice emerges something must say people stand warm threshold leads palace justice process gaining rightful place must guilty wrongful deeds let us seek satisfy thirst freedom drinking cup bitterness hatred must forever conduct struggle high plane dignity discipline must allow creative protest degenerate physical violence must rise majestic heights meeting physical force soul force marvelous new militancy engulfed negro community must lead us distrust white people many white brothers evidenced presence today come realize destiny tied destiny come realize freedom inextricably bound freedom walk alone walk must make pledge shall always march ahead turn back asking devotees civil rights satisfied never satisfied long negro victim unspeakable horrors police brutality never satisfied long bodies heavy fatigue travel gain lodging motels highways hotels cities satisfied long negros basic mobility smaller ghetto larger never satisfied long children stripped selfhood robbed dignity signs stating whites satisfied long negro mississippi vote negro new york believes nothing vote satisfied satisfied justice rolls waters righteousness mighty stream unmindful come great trials tribulations come fresh narrow jail cells come areas quest quest freedom left battered storms persecution staggered winds police brutality veterans creative suffering continue work faith unearned suffering redemptive go back mississippi go back alabama go back south carolina go back georgia go back louisiana go back slums ghettos northern cities knowing somehow situation changed let us wallow valley despair say today friends even though face difficulties today tomorrow still dream dream deeply rooted american dream dream day nation rise live true meaning creed hold truths selfevident men created equal dream day red hills georgia sons former slaves sons former slave owners able sit together table brotherhood dream day even state mississippi state sweltering heat injustice sweltering heat oppression transformed oasis freedom justice dream four little children day live nation judged color skin content character dream today dream day alabama vicious racists governor lips dripping words interposition nullification day right alabama little black boys black girls able join hands little white boys white girls sisters brothers dream today dream day every valley shall exalted every hill mountain shall made low rough places made plain crooked places made straight glory lord shall revealed flesh shall see together hope faith go back south faith able hew mountain despair stone hope faith able transform jangling discords nation beautiful symphony brotherhood faith able work together pray together struggle together go jail together stand freedom together knowing free day day day gods children able sing new meaning country tis thee sweet land liberty thee sing land fathers died land pilgrims pride every mountainside let freedom ring america great nation must become true let freedom ring prodigious hilltops new hampshire let freedom ring mighty mountains new york let freedom ring heightening alleghenies pennsylvania let freedom ring snowcapped rockies colorado let freedom ring curvaceous slopes california let freedom ring stone mountain georgia let freedom ring lookout mountain tennessee let freedom ring every hill molehill mississippi every mountainside let freedom ring happens allow freedom ring let ring every village every hamlet every state every city able speed day gods children black men white men jews gentiles protestants catholics able join hands sing words old negro spiritual free last free last thank god almighty free last'''"
   ]
  },
  {
   "cell_type": "code",
   "execution_count": 9,
   "metadata": {},
   "outputs": [],
   "source": [
    "# first, we import the relevant modules from the NLTK library \n",
    "from nltk.sentiment.vader import SentimentIntensityAnalyzer"
   ]
  },
  {
   "cell_type": "code",
   "execution_count": 10,
   "metadata": {},
   "outputs": [],
   "source": [
    "# next, we initialize VADER so we can use it within our Python script\n",
    "sid = SentimentIntensityAnalyzer()"
   ]
  },
  {
   "cell_type": "code",
   "execution_count": 14,
   "metadata": {},
   "outputs": [],
   "source": [
    "# the variable 'message_text' now contains the text we will analyze.\n",
    "message_text = df_string"
   ]
  },
  {
   "cell_type": "code",
   "execution_count": 18,
   "metadata": {},
   "outputs": [],
   "source": [
    "# Calling the polarity_scores method on sid and passing in the message_text outputs a dictionary with negative, neutral, positive, and compound scores for the input text\n",
    "scores = sid.polarity_scores(message_text)"
   ]
  },
  {
   "cell_type": "code",
   "execution_count": 19,
   "metadata": {},
   "outputs": [
    {
     "name": "stdout",
     "output_type": "stream",
     "text": [
      "compound: 0.9997, neg: 0.101, neu: 0.579, pos: 0.32, "
     ]
    }
   ],
   "source": [
    "# Here we loop through the keys contained in scores (pos, neu, neg, and compound scores) and print the key-value pairs on the screen\n",
    "for key in sorted(scores):\n",
    "        print('{0}: {1}, '.format(key, scores[key]), end='')"
   ]
  },
  {
   "cell_type": "code",
   "execution_count": null,
   "metadata": {},
   "outputs": [],
   "source": []
  }
 ],
 "metadata": {
  "kernelspec": {
   "display_name": "Python 3",
   "language": "python",
   "name": "python3"
  },
  "language_info": {
   "codemirror_mode": {
    "name": "ipython",
    "version": 3
   },
   "file_extension": ".py",
   "mimetype": "text/x-python",
   "name": "python",
   "nbconvert_exporter": "python",
   "pygments_lexer": "ipython3",
   "version": "3.7.4"
  }
 },
 "nbformat": 4,
 "nbformat_minor": 2
}
