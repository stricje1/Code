{
 "cells": [
  {
   "cell_type": "code",
   "execution_count": 4,
   "metadata": {},
   "outputs": [
    {
     "name": "stdout",
     "output_type": "stream",
     "text": [
      "0.0\n",
      "0.7098664064334705\n",
      "5.679408447214175\n",
      "0.8030585290810693\n",
      "1.9396939995066484\n",
      "5.850172298806228\n",
      "3.581271031734279\n",
      "5.200263050929074\n",
      "7.438447563607663\n",
      "2.121326096972615\n",
      "[1.7810836, 2.550537003, 0]\n",
      "[2.465489372, 2.362125076, 0]\n",
      "[1.38807019, 1.850220317, 0]\n",
      "Expected 0, Actual 0.\n"
     ]
    }
   ],
   "source": [
    "# For this practical application, student should be provided sample code adaptable for the business case/problem being solved.\n",
    "\n",
    "# EXAMPLE KNN ALGORITHM STEP-BY-STEP #\n",
    "\n",
    "# Example of calculating Euclidean distance bewteen two vectors\n",
    "from math import sqrt\n",
    " \n",
    "# Step 1a: Define the function to calculate the Euclidean Distance between two vectors\n",
    "def euclidean_distance(row1, row2):\n",
    "\tdistance = 0.0\n",
    "\tfor i in range(len(row1)-1):\n",
    "\t\tdistance += (row1[i] - row2[i])**2\n",
    "\treturn sqrt(distance)\n",
    " \n",
    "# Step 1b: create or load a Test Distance Function\n",
    "dataset = [[1.7810836,2.550537003,0],\n",
    "\t[2.465489372,2.362125076,0],\n",
    "\t[7.396561688,3.400293529,1],\n",
    "\t[1.38807019,1.850220317,0],\n",
    "\t[3.06407232,4.005305973,0],\n",
    "\t[7.627531214,2.759262235,1],\n",
    "\t[5.332441248,2.088626775,1],\n",
    "\t[6.922596716,1.77106367,1],\n",
    "\t[8.675418651,-0.242068655,1],\n",
    "\t[3.673756466,3.508563011,0]]\n",
    "\n",
    "# Step 1c: Calculate the Euclidean Distance between two vectors\n",
    "row0 = dataset[0]\n",
    "for row in dataset:\n",
    "\tdistance = euclidean_distance(row0, row)\n",
    "\tprint(distance)\n",
    "\t\n",
    "# Step 2a: Define the function to Locate the most Similar Neighbors\n",
    "def get_neighbors(train, test_row, num_neighbors):\n",
    "\tdistances = list()\n",
    "\tfor train_row in train:\n",
    "\t\tdist = euclidean_distance(test_row, train_row)\n",
    "\t\tdistances.append((train_row, dist))\n",
    "\tdistances.sort(key=lambda tup: tup[1])\n",
    "\tneighbors = list()\n",
    "\tfor i in range(num_neighbors):\n",
    "\t\tneighbors.append(distances[i][0])\n",
    "\treturn neighbors\n",
    "\n",
    "# Step 2b: Locate the most Similar Neighbors\n",
    "neighbors = get_neighbors(dataset, dataset[0], 3)\n",
    "for neighbor in neighbors:\n",
    "\tprint(neighbor)\n",
    "\t\n",
    "# Step 3a: Define a function that will Make a classification prediction with neighbors\n",
    "def predict_classification(train, test_row, num_neighbors):\n",
    "\tneighbors = get_neighbors(train, test_row, num_neighbors)\n",
    "\toutput_values = [row[-1] for row in neighbors]\n",
    "\tprediction = max(set(output_values), key=output_values.count)\n",
    "\treturn prediction\n",
    "\t\n",
    "# Step 3b: Make a classification prediction with neighbors\n",
    "prediction = predict_classification(dataset, dataset[0], 3)\n",
    "print('Expected %d, Actual %d.' % (dataset[0][-1], prediction))"
   ]
  },
  {
   "cell_type": "code",
   "execution_count": null,
   "metadata": {},
   "outputs": [],
   "source": []
  }
 ],
 "metadata": {
  "kernelspec": {
   "display_name": "Python 3",
   "language": "python",
   "name": "python3"
  },
  "language_info": {
   "codemirror_mode": {
    "name": "ipython",
    "version": 3
   },
   "file_extension": ".py",
   "mimetype": "text/x-python",
   "name": "python",
   "nbconvert_exporter": "python",
   "pygments_lexer": "ipython3",
   "version": "3.6.9"
  }
 },
 "nbformat": 4,
 "nbformat_minor": 2
}
